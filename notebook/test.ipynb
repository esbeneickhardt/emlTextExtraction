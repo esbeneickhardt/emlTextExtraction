{
 "cells": [
  {
   "cell_type": "markdown",
   "metadata": {},
   "source": [
    "# Importing emlTextExtraction\n"
   ]
  },
  {
   "cell_type": "code",
   "execution_count": 3,
   "metadata": {},
   "outputs": [],
   "source": [
    "# Adding modules to sys path\n",
    "import sys\n",
    "sys.path.append(\"/emlTextExtraction/modules/\")"
   ]
  },
  {
   "cell_type": "code",
   "execution_count": 4,
   "metadata": {},
   "outputs": [],
   "source": [
    "# Importing modules\n",
    "import email_unpack_functions as unpack_fun\n",
    "import email_text_extract_functions as extract_fun"
   ]
  },
  {
   "cell_type": "markdown",
   "metadata": {},
   "source": [
    "# Unpacking eml\n",
    "The eml file is unpacked into a dictionary with the following elements:  \n",
    "* input_file: Path to input file\n",
    "* subject: Subject of email\n",
    "* from: Sender of email\n",
    "* to: Reciever of email\n",
    "* data: Date email was send\n",
    "* text: The text body of the email (concatenated if email is multi layered) \n",
    "* html: The html body of the email (concatenated if email is multi layered)\n",
    "* html_text: Text extracted from html body\n",
    "* files: Dictionary with paths to unpacked attachments"
   ]
  },
  {
   "cell_type": "code",
   "execution_count": 10,
   "metadata": {},
   "outputs": [
    {
     "name": "stdout",
     "output_type": "stream",
     "text": [
      "\n",
      "    Description:\n",
      "        Extracts data from e-mail and returns it as a dictionary\n",
      "    Parameters:\n",
      "        eml_file (_io.BufferedReader): An open eml-file\n",
      "        key (str): ID string for the message\n",
      "        output_path (str): Output path\n",
      "    Returns:\n",
      "        msg (dic): A dictionary with file text and attachments is returned\n",
      "    \n"
     ]
    }
   ],
   "source": [
    "# Documentation for main function\n",
    "print(unpack_fun.unpack_eml.__doc__)"
   ]
  },
  {
   "cell_type": "code",
   "execution_count": 16,
   "metadata": {},
   "outputs": [],
   "source": [
    "# Reading eml into dictionary\n",
    "eml = unpack_fun.unpack_eml(\"/mnt/notebook/test.eml\", \"attachments\", \"/mnt/notebook/\")"
   ]
  },
  {
   "cell_type": "markdown",
   "metadata": {},
   "source": [
    "# Extacting all texts\n",
    "Here text in all attachments are extracted using textract, tesseract and custom functions."
   ]
  },
  {
   "cell_type": "code",
   "execution_count": 15,
   "metadata": {},
   "outputs": [
    {
     "name": "stdout",
     "output_type": "stream",
     "text": [
      "INFO: File is non-standard and ImageMagick will be used\n",
      "INFO: No text could be extracted from: /mnt/notebook//attachments.8d9e4498-71b2-4d75-bd04-be2d30dacc61.emlTextExtraction.Rmd\n"
     ]
    }
   ],
   "source": [
    "# Extracting texts\n",
    "eml_text_extracted = extract_fun.unpack_attachments(eml)"
   ]
  }
 ],
 "metadata": {
  "kernelspec": {
   "display_name": "Python 3",
   "language": "python",
   "name": "python3"
  },
  "language_info": {
   "codemirror_mode": {
    "name": "ipython",
    "version": 3
   },
   "file_extension": ".py",
   "mimetype": "text/x-python",
   "name": "python",
   "nbconvert_exporter": "python",
   "pygments_lexer": "ipython3",
   "version": "3.6.9"
  }
 },
 "nbformat": 4,
 "nbformat_minor": 4
}
